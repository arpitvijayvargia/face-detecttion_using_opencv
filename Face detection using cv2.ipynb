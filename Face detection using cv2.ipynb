{
 "cells": [
  {
   "cell_type": "markdown",
   "metadata": {},
   "source": [
    "## My first Basic face and eye detection classifier from real time video using CV2"
   ]
  },
  {
   "cell_type": "code",
   "execution_count": 1,
   "metadata": {},
   "outputs": [],
   "source": [
    "# OpenCV program to detect face in real time \n",
    "# import libraries of python OpenCV  \n",
    "# where its functionality resides \n",
    "import cv2  "
   ]
  },
  {
   "cell_type": "code",
   "execution_count": 3,
   "metadata": {},
   "outputs": [],
   "source": [
    "#train face and eye classifier\n",
    "#XML file for detecting face\n",
    "face_cascade = cv2.CascadeClassifier('haarcascade_frontalface_default.xml') \n",
    "#XML file for detecting eye\n",
    "eye_cascade = cv2.CascadeClassifier('haarcascade_eye.xml') "
   ]
  },
  {
   "cell_type": "code",
   "execution_count": 4,
   "metadata": {},
   "outputs": [],
   "source": [
    "# capture frames from a camera \n",
    "cap = cv2.VideoCapture(0) "
   ]
  },
  {
   "cell_type": "code",
   "execution_count": 6,
   "metadata": {},
   "outputs": [],
   "source": [
    "# loop runs if capturing has been initialized. \n",
    "while 1:  \n",
    "  \n",
    "    # reads frames from a camera \n",
    "    ret, img = cap.read()  \n",
    "  \n",
    "    # convert to gray scale of each frames \n",
    "    gray = cv2.cvtColor(img, cv2.COLOR_BGR2GRAY) \n",
    "  \n",
    "    # Detects faces of different sizes in the input image \n",
    "    faces = face_cascade.detectMultiScale(gray, 1.3, 5) \n",
    "  \n",
    "    for (x,y,w,h) in faces: \n",
    "        # To draw a rectangle in a face  \n",
    "        cv2.rectangle(img,(x,y),(x+w,y+h),(255,255,0),2)  \n",
    "        roi_gray = gray[y:y+h, x:x+w] \n",
    "        roi_color = img[y:y+h, x:x+w] \n",
    "  \n",
    "        # Detects eyes of different sizes in the input image \n",
    "        eyes = eye_cascade.detectMultiScale(roi_gray)  \n",
    "  \n",
    "        #To draw a rectangle in eyes \n",
    "        for (ex,ey,ew,eh) in eyes: \n",
    "            cv2.rectangle(roi_color,(ex,ey),(ex+ew,ey+eh),(0,127,255),2) \n",
    "  \n",
    "    # Display an image in a window \n",
    "    cv2.imshow('img',img) \n",
    "  \n",
    "    # Wait for Esc key to stop \n",
    "    k = cv2.waitKey(30) & 0xff\n",
    "    if k == 27: \n",
    "        break\n",
    "  \n",
    "##Close the window \n",
    "cap.release() \n",
    "  \n",
    "# De-allocate any associated memory usage \n",
    "cv2.destroyAllWindows()  "
   ]
  },
  {
   "cell_type": "code",
   "execution_count": null,
   "metadata": {},
   "outputs": [],
   "source": []
  },
  {
   "cell_type": "code",
   "execution_count": null,
   "metadata": {},
   "outputs": [],
   "source": []
  }
 ],
 "metadata": {
  "kernelspec": {
   "display_name": "Python 3",
   "language": "python",
   "name": "python3"
  },
  "language_info": {
   "codemirror_mode": {
    "name": "ipython",
    "version": 3
   },
   "file_extension": ".py",
   "mimetype": "text/x-python",
   "name": "python",
   "nbconvert_exporter": "python",
   "pygments_lexer": "ipython3",
   "version": "3.7.0"
  }
 },
 "nbformat": 4,
 "nbformat_minor": 2
}
